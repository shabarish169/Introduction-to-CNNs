{
  "cells": [
    {
      "attachments": {},
      "cell_type": "markdown",
      "metadata": {
        "id": "nMt4g5N0aB-m"
      },
      "source": [
        "# Classification Using SNN\n",
        "#### By The Artificial Intelligence Club (AI) - IIT Madras\n",
        "\n"
      ]
    },
    {
      "attachments": {},
      "cell_type": "markdown",
      "metadata": {
        "id": "RUgruAYRaERL"
      },
      "source": [
        "This aim of this Problem Statement is to introduce Spiking Neural Networks, which is one of the most used techniques for event data handling. \n",
        "Before beginning go thorugh the following articles:\n",
        "1. https://www.ncbi.nlm.nih.gov/pmc/articles/PMC9313413/ : It is fairly easy to follow and provides an excellent overview of the field.\n",
        "\n",
        "2. https://theaisummer.com/spiking-neural-networks/ : A short introduction to different concepts and training parameters related to Spiking Neural Networks.\n",
        "\n",
        "3. https://arxiv.org/abs/1804.08150 : The base paper for Deep Learning using Spiking Neural Networks.\n",
        "\n",
        "\n",
        "Some resources to help you in your tasks are:\n",
        "1. https://pypi.org/project/keras-spiking/\n",
        "2. https://cnvrg.io/spiking-neural-networks/"
      ]
    },
    {
      "attachments": {},
      "cell_type": "markdown",
      "metadata": {
        "id": "IMxtByCuv9Fi"
      },
      "source": [
        "##### This coding task might be slightly harder compared to the rest. Fret not! This task shall be evaluated on how much you are able to learn with resplect to implementing a Spiking Neural Network.\n",
        "##### Even if you do not complete the model deployment, do submit whatever code you complete. \n",
        "\n",
        "\n",
        "`Before diving into the code ensure that you copy the notebook to your drive (See the option in File Tab) and that the Runtime Type is set to GPU (Runtime tab -> Change runtime type). To see the importance of GPU in deep learning see this short article.`\n"
      ]
    },
    {
      "attachments": {},
      "cell_type": "markdown",
      "metadata": {
        "id": "JZUGzjtFaD-c"
      },
      "source": [
        "From this task, you will:\n",
        "\n",
        "1.   Learn how spiking neurons are implemented\n",
        "2.   Understand backpropagation through time, and the associated challenges in SNNs.\n",
        "3.   Convert a non-spiking model to a spiking model using PyTorchSpiking. \n",
        "\n",
        "\n",
        "Sounds like a huge task, but do not worry! Remember to use Google freely to search for any doubts, errors or documentation. This assignment is to check how you can step up to learn new things on the go using publicly available sources.\n",
        "\n",
        "Ideally at the end, we expect that you just understand the code in EVERY cell. No need to worry greatly about the coding details involved in the task.\n",
        "\n",
        "Enter your code between areas surrounded by the following comment design\n",
        "######### YOUR CODE HERE #########\n",
        "\n",
        "\n",
        "################################\n",
        "\n"
      ]
    },
    {
      "cell_type": "code",
      "execution_count": 47,
      "metadata": {
        "colab": {
          "base_uri": "https://localhost:8080/"
        },
        "id": "ULLge7cNZHcN",
        "outputId": "71a9e0ae-c551-415c-dde8-8f7ab9cef605"
      },
      "outputs": [
        {
          "name": "stdout",
          "output_type": "stream",
          "text": [
            "Requirement already satisfied: pytorch-spiking in c:\\python311\\lib\\site-packages (0.1.0)\n",
            "Requirement already satisfied: numpy>=1.16.0 in c:\\python311\\lib\\site-packages (from pytorch-spiking) (1.24.1)\n",
            "Requirement already satisfied: torch>=1.0.0 in c:\\users\\georg\\appdata\\roaming\\python\\python311\\site-packages (from pytorch-spiking) (2.0.0)\n",
            "Requirement already satisfied: filelock in c:\\users\\georg\\appdata\\roaming\\python\\python311\\site-packages (from torch>=1.0.0->pytorch-spiking) (3.12.0)\n",
            "Requirement already satisfied: typing-extensions in c:\\python311\\lib\\site-packages (from torch>=1.0.0->pytorch-spiking) (4.5.0)\n",
            "Requirement already satisfied: sympy in c:\\python311\\lib\\site-packages (from torch>=1.0.0->pytorch-spiking) (1.11.1)\n",
            "Requirement already satisfied: networkx in c:\\users\\georg\\appdata\\roaming\\python\\python311\\site-packages (from torch>=1.0.0->pytorch-spiking) (3.1)\n",
            "Requirement already satisfied: jinja2 in c:\\users\\georg\\appdata\\roaming\\python\\python311\\site-packages (from torch>=1.0.0->pytorch-spiking) (3.1.2)\n",
            "Requirement already satisfied: MarkupSafe>=2.0 in c:\\users\\georg\\appdata\\roaming\\python\\python311\\site-packages (from jinja2->torch>=1.0.0->pytorch-spiking) (2.1.2)\n",
            "Requirement already satisfied: mpmath>=0.19 in c:\\python311\\lib\\site-packages (from sympy->torch>=1.0.0->pytorch-spiking) (1.3.0)\n"
          ]
        }
      ],
      "source": [
        "# Install the library that provides the necessary tools for training and running Spiking Neural Networks.\n",
        "# Install the pytorch_spiking library.\n",
        "######### YOUR CODE HERE #########\n",
        "!pip3 install pytorch-spiking\n",
        "################################"
      ]
    },
    {
      "attachments": {},
      "cell_type": "markdown",
      "metadata": {
        "id": "i1qQJ1Q2dwmj"
      },
      "source": [
        "First we import the necessary libraries. We recommend that you check out what these libraries are if they seem unfamiliar. However, fret not if you do not understand these libraries completely. "
      ]
    },
    {
      "cell_type": "code",
      "execution_count": 48,
      "metadata": {
        "id": "-QGkNbjNdkwX"
      },
      "outputs": [],
      "source": [
        "import matplotlib.pyplot as plt\n",
        "import numpy as np\n",
        "import torch\n",
        "import torchvision\n",
        "\n",
        "import pytorch_spiking\n",
        "\n",
        "torch.manual_seed(0)\n",
        "np.random.seed(0)"
      ]
    },
    {
      "attachments": {},
      "cell_type": "markdown",
      "metadata": {
        "id": "VjX6KJgolqLq"
      },
      "source": [
        "#  Loading Data\n",
        "First we will load the MNIST data that we shall be using for the task. "
      ]
    },
    {
      "cell_type": "code",
      "execution_count": 49,
      "metadata": {
        "id": "vU3Zngm6l0IB"
      },
      "outputs": [
        {
          "data": {
            "image/png": "[encoded data removed]",
            "text/plain": [
              "<Figure size 640x480 with 25 Axes>"
            ]
          },
          "metadata": {},
          "output_type": "display_data"
        }
      ],
      "source": [
        "# np.random.seed(10)\n",
        "train_images, train_labels = zip(\n",
        "    *torchvision.datasets.FashionMNIST(\".\", train=True, download=True)\n",
        ")\n",
        "train_images = np.asarray([np.array(img) for img in train_images], dtype=np.float32)\n",
        "train_labels = np.asarray(train_labels, dtype=np.int64)\n",
        "\n",
        "# Do the same loading of data for the test data as well.\n",
        "######### YOUR CODE HERE #########\n",
        "test_images, test_labels = zip(*torchvision.datasets.FashionMNIST(\".\", train=False, download=True))\n",
        "test_images = np.asarray([np.array(img) for img in test_images], dtype=np.float32)\n",
        "train_labels = np.asarray(train_labels, dtype=np.int64)\n",
        "\n",
        "################################\n",
        "\n",
        "# Normalize images so values are between 0 and 1\n",
        "\n",
        "######### YOUR CODE HERE #########\n",
        "train_images = train_images/255\n",
        "test_images = test_images/255\n",
        "# print(train_images[0])\n",
        "################################\n",
        "\n",
        "class_names = [\n",
        "    \"T-shirt/top\",\n",
        "    \"Trouser\",\n",
        "    \"Pullover\",\n",
        "    \"Dress\",\n",
        "    \"Coat\",\n",
        "    \"Sandal\",\n",
        "    \"Shirt\",\n",
        "    \"Sneaker\",\n",
        "    \"Bag\",\n",
        "    \"Ankle boot\",\n",
        "]\n",
        "num_classes = len(class_names)\n",
        "\n",
        "# Using matplotlib library visualize a randon subset of 25 images from the training dataset with their corresponding labels as the titles for the plots.\n",
        "# Hint: Use subplot function.\n",
        "\n",
        "######### YOUR CODE HERE #########\n",
        "img_indices = np.array([np.random.randint(0, len(train_images)) for i in range(25)])\n",
        "fig, axes = plt.subplots(5, 5)\n",
        "for n, i in enumerate(img_indices):\n",
        "    axes[n//5, n%5].set_title(class_names[train_labels[i]])\n",
        "    img = train_images[i]\n",
        "    axes[n//5, n%5].axis('off')\n",
        "    axes[n//5, n%5].imshow(img)\n",
        "plt.subplots_adjust(bottom=0, top=1.2)\n",
        "################################"
      ]
    },
    {
      "attachments": {},
      "cell_type": "markdown",
      "metadata": {
        "id": "2Ky39rdPoJhe"
      },
      "source": [
        "# Non Spiking Model\n",
        "Next we’ll build and train a simple non-spiking model to classify the MNIST images."
      ]
    },
    {
      "cell_type": "code",
      "execution_count": 50,
      "metadata": {
        "id": "jRSmE1w_oGsi"
      },
      "outputs": [],
      "source": [
        "# Create a model where you define the neural network using PyTorch library. \n",
        "# The dataset is Fashion MNIST, whose images are of the size 28*28.\n",
        "# Create only one hidden layer for the task. \n",
        "# The Fashion MNIST has 10 classes that it predicts.\n",
        "\n",
        "######### YOUR CODE HERE #########\n",
        "from torch import nn\n",
        "\n",
        "class NeuralNetwork(nn.Module):\n",
        "    def __init__(self):\n",
        "        super().__init__()\n",
        "        self.flatten = nn.Flatten()\n",
        "        self.activation = nn.Sequential(\n",
        "            nn.Linear(28*28, 128),\n",
        "            nn.ReLU(),\n",
        "            nn.Linear(128, 10)\n",
        "        )\n",
        "    def forward(self, x):\n",
        "        logits = self.activation(x)\n",
        "        return logits\n",
        "model = NeuralNetwork()\n",
        "################################"
      ]
    },
    {
      "cell_type": "code",
      "execution_count": 51,
      "metadata": {
        "colab": {
          "base_uri": "https://localhost:8080/",
          "height": 131
        },
        "id": "D-m_-mcQopXy",
        "outputId": "ed285464-e906-40a0-cbfc-78b8664f43bf"
      },
      "outputs": [],
      "source": [
        "\n",
        "def train(input_model, train_x, test_x):\n",
        "    minibatch_size = 32\n",
        "    optimizer = torch.optim.SGD(input_model.parameters(), lr=0.01)\n",
        "\n",
        "    input_model.train()\n",
        "    for j in range(10):\n",
        "        train_acc = 0\n",
        "        for i in range(train_x.shape[0] // minibatch_size):\n",
        "            input_model.zero_grad()\n",
        "\n",
        "            batch_in = train_x[i * minibatch_size : (i + 1) * minibatch_size]\n",
        "            # flatten images\n",
        "            batch_in = batch_in.reshape((-1,) + train_x.shape[1:-2] + (784,))\n",
        "            batch_label = train_labels[i * minibatch_size : (i + 1) * minibatch_size]\n",
        "            output = input_model(torch.tensor(batch_in))\n",
        "\n",
        "            # compute sparse categorical cross entropy loss\n",
        "            logp = torch.nn.functional.log_softmax(output, dim=-1)\n",
        "            logpy = torch.gather(logp, 1, torch.tensor(batch_label).view(-1, 1))\n",
        "            loss = -logpy.mean()\n",
        "            if i==0: print(loss)\n",
        "            loss.backward()\n",
        "            optimizer.step()\n",
        "\n",
        "            train_acc += torch.mean(\n",
        "                torch.eq(torch.argmax(output, dim=1), torch.tensor(batch_label)).float()\n",
        "            )\n",
        "\n",
        "        train_acc /= i + 1\n",
        "        print(f\"Train accuracy ({j}): {train_acc.numpy()}\")\n",
        "\n",
        "    # compute test accuracy\n",
        "    input_model.eval()\n",
        "    test_acc = 0\n",
        "    for i in range(test_x.shape[0] // minibatch_size):\n",
        "        batch_in = test_x[i * minibatch_size : (i + 1) * minibatch_size]\n",
        "        batch_in = batch_in.reshape((-1,) + test_x.shape[1:-2] + (784,))\n",
        "        batch_label = test_labels[i * minibatch_size : (i + 1) * minibatch_size]\n",
        "        output = input_model(torch.tensor(batch_in))\n",
        "\n",
        "        test_acc += torch.mean(\n",
        "            torch.eq(torch.argmax(output, dim=1), torch.tensor(batch_label)).float()\n",
        "        )\n",
        "\n",
        "    test_acc /= i + 1\n",
        "    print(f\"Test accuracy: {test_acc.numpy()}\")"
      ]
    },
    {
      "cell_type": "code",
      "execution_count": 52,
      "metadata": {},
      "outputs": [
        {
          "name": "stdout",
          "output_type": "stream",
          "text": [
            "(100, 28, 28)\n",
            "(28,)\n"
          ]
        }
      ],
      "source": [
        "train_x = train_images\n",
        "minibatch_size = 100\n",
        "i = 1\n",
        "batch_in = train_x[i * minibatch_size : (i + 1) * minibatch_size]\n",
        "            # flatten images\n",
        "# batch_in = batch_in.reshape((-1,) + train_x.shape[1:-2] + (784,))\n",
        "print(batch_in.shape)\n",
        "print(train_x.shape[1:-1])"
      ]
    },
    {
      "cell_type": "code",
      "execution_count": 53,
      "metadata": {
        "id": "0VOMB_lLopF9"
      },
      "outputs": [
        {
          "name": "stdout",
          "output_type": "stream",
          "text": [
            "tensor(2.2933, grad_fn=<NegBackward0>)\n",
            "Train accuracy (0): 0.7123000025749207\n",
            "tensor(0.5237, grad_fn=<NegBackward0>)\n",
            "Train accuracy (1): 0.8096333146095276\n",
            "tensor(0.4247, grad_fn=<NegBackward0>)\n",
            "Train accuracy (2): 0.8290166854858398\n",
            "tensor(0.3701, grad_fn=<NegBackward0>)\n",
            "Train accuracy (3): 0.838283360004425\n",
            "tensor(0.3363, grad_fn=<NegBackward0>)\n",
            "Train accuracy (4): 0.8447999954223633\n",
            "tensor(0.3158, grad_fn=<NegBackward0>)\n",
            "Train accuracy (5): 0.849566638469696\n",
            "tensor(0.3036, grad_fn=<NegBackward0>)\n",
            "Train accuracy (6): 0.8537333607673645\n",
            "tensor(0.2956, grad_fn=<NegBackward0>)\n",
            "Train accuracy (7): 0.8574833273887634\n",
            "tensor(0.2918, grad_fn=<NegBackward0>)\n",
            "Train accuracy (8): 0.8603166937828064\n",
            "tensor(0.2920, grad_fn=<NegBackward0>)\n",
            "Train accuracy (9): 0.8633000254631042\n",
            "Test accuracy: 0.8500601053237915\n"
          ]
        }
      ],
      "source": [
        "# Call the train function and train on the dataset.\n",
        "######### YOUR CODE HERE #########\n",
        "\n",
        "train(model, train_images, test_images)\n",
        "    \n",
        "################################"
      ]
    },
    {
      "attachments": {},
      "cell_type": "markdown",
      "metadata": {
        "id": "EIRShMyKrpKh"
      },
      "source": [
        "The Non-Spiking Neural Network has been created and accuracy has been obtained. It is able to perform well."
      ]
    },
    {
      "attachments": {},
      "cell_type": "markdown",
      "metadata": {
        "id": "F92TwZ4PrzgR"
      },
      "source": [
        "Now, the task is to create an equivalent spiking model. "
      ]
    },
    {
      "attachments": {},
      "cell_type": "markdown",
      "metadata": {
        "id": "7bbdrAndr9FI"
      },
      "source": [
        "# Spiking Model\n",
        "There will be some changes that you will have to take care of:\n",
        "\n",
        "1.   Add a temporal dimension to the model. Find out how to add temporal dimension to a model bacause SNNs work on temporal data.\n",
        "2.   Activation functions make sense for Deep learning models. However, when transforming to Spiking Neural Networks, they have to replaced with an equivalent form. \n",
        "\n",
        "Performing the above steps ensure that the inference the model gives upon test data will be based on laws of Spiking Neural Networks.\n",
        "But, remember that training on a non-spiking model and inferencing from a spiking model gives poorest results. (Show evidence).\n",
        "\n",
        "Try implementing a network which used spiking model for training as well as inferencing.\n",
        "\n"
      ]
    },
    {
      "attachments": {},
      "cell_type": "markdown",
      "metadata": {
        "id": "Nxi6GA5txH7G"
      },
      "source": [
        "### Bonus if you are able to think out of the box and some suggest some innovative ideas to go about solving the above problem apart from the prompts specified."
      ]
    },
    {
      "cell_type": "code",
      "execution_count": 54,
      "metadata": {},
      "outputs": [],
      "source": [
        "class SpikingNetwork(nn.Module):\n",
        "    def __init__(self, dt = 0.001):\n",
        "        super().__init__()\n",
        "        self.flatten = nn.Flatten()\n",
        "        self.activation = nn.Sequential(\n",
        "            nn.Linear(28*28, 128),\n",
        "            pytorch_spiking.SpikingActivation(nn.ReLU(), spiking_aware_training = True, dt=dt), # Rate encoding\n",
        "            pytorch_spiking.TemporalAvgPool(),\n",
        "            nn.Linear(128, 10)\n",
        "        )\n",
        "    def forward(self, x):\n",
        "        logits = self.activation(x)\n",
        "        return logits\n",
        "model_spiking = SpikingNetwork(dt=0.1)\n",
        "# class Spiking2(nn.Module)"
      ]
    },
    {
      "cell_type": "code",
      "execution_count": 55,
      "metadata": {},
      "outputs": [
        {
          "name": "stdout",
          "output_type": "stream",
          "text": [
            "tensor(2.2800, grad_fn=<NegBackward0>)\n",
            "Train accuracy (0): 0.6794666647911072\n",
            "tensor(0.5871, grad_fn=<NegBackward0>)\n",
            "Train accuracy (1): 0.7875833511352539\n",
            "tensor(0.5086, grad_fn=<NegBackward0>)\n",
            "Train accuracy (2): 0.8090333342552185\n",
            "tensor(0.4633, grad_fn=<NegBackward0>)\n",
            "Train accuracy (3): 0.8185166716575623\n",
            "tensor(0.3864, grad_fn=<NegBackward0>)\n",
            "Train accuracy (4): 0.8251166939735413\n",
            "tensor(0.4644, grad_fn=<NegBackward0>)\n",
            "Train accuracy (5): 0.8298666477203369\n",
            "tensor(0.3403, grad_fn=<NegBackward0>)\n",
            "Train accuracy (6): 0.8337500095367432\n",
            "tensor(0.3840, grad_fn=<NegBackward0>)\n",
            "Train accuracy (7): 0.8374833464622498\n",
            "tensor(0.2794, grad_fn=<NegBackward0>)\n",
            "Train accuracy (8): 0.8413833379745483\n",
            "tensor(0.2967, grad_fn=<NegBackward0>)\n",
            "Train accuracy (9): 0.8433499932289124\n",
            "Test accuracy: 0.8344351053237915\n"
          ]
        }
      ],
      "source": [
        "steps = 10\n",
        "train_sequences = np.tile(train_images[:, None], (1, steps, 1, 1))\n",
        "test_sequences = np.tile(test_images[:, None], (1, steps, 1, 1))\n",
        "train(model_spiking, train_sequences, test_sequences)"
      ]
    },
    {
      "cell_type": "code",
      "execution_count": 56,
      "metadata": {},
      "outputs": [
        {
          "data": {
            "text/plain": [
              "<Figure size 640x480 with 0 Axes>"
            ]
          },
          "metadata": {},
          "output_type": "display_data"
        }
      ],
      "source": [
        "# Speed comparison\n",
        "for n, i in enumerate(img_indices):\n",
        "    axes[n//5, n%5].set_title(class_names[train_labels[i]])\n",
        "    img = train_images[i]\n",
        "    axes[n//5, n%5].axis('off')\n",
        "    axes[n//5, n%5].imshow(img)\n",
        "plt.subplots_adjust(bottom=0, top=1.2)\n",
        "def test(input_model, train_x, test_x):\n",
        "    minibatch_size = 32\n",
        "    optimizer = torch.optim.SGD(input_model.parameters(), lr=0.01)\n",
        "\n",
        "    # input_model.train()\n",
        "    # for j in range(10):\n",
        "    #     train_acc = 0\n",
        "    #     for i in range(train_x.shape[0] // minibatch_size):\n",
        "    #         input_model.zero_grad()\n",
        "\n",
        "    #         batch_in = train_x[i * minibatch_size : (i + 1) * minibatch_size]\n",
        "    #         # flatten images\n",
        "    #         batch_in = batch_in.reshape((-1,) + train_x.shape[1:-2] + (784,))\n",
        "    #         batch_label = train_labels[i * minibatch_size : (i + 1) * minibatch_size]\n",
        "    #         output = input_model(torch.tensor(batch_in))\n",
        "\n",
        "    #         # compute sparse categorical cross entropy loss\n",
        "    #         logp = torch.nn.functional.log_softmax(output, dim=-1)\n",
        "    #         logpy = torch.gather(logp, 1, torch.tensor(batch_label).view(-1, 1))\n",
        "    #         loss = -logpy.mean()\n",
        "    #         if i==0: print(loss)\n",
        "    #         loss.backward()\n",
        "    #         optimizer.step()\n",
        "\n",
        "    #         train_acc += torch.mean(\n",
        "    #             torch.eq(torch.argmax(output, dim=1), torch.tensor(batch_label)).float()\n",
        "    #         )\n",
        "\n",
        "    #     train_acc /= i + 1\n",
        "    #     print(f\"Train accuracy ({j}): {train_acc.numpy()}\")\n",
        "\n",
        "    # compute test accuracy\n",
        "    input_model.eval()\n",
        "    test_acc = 0\n",
        "    for i in range(test_x.shape[0] // minibatch_size):\n",
        "        batch_in = test_x[i * minibatch_size : (i + 1) * minibatch_size]\n",
        "        batch_in = batch_in.reshape((-1,) + test_x.shape[1:-2] + (784,))\n",
        "        batch_label = test_labels[i * minibatch_size : (i + 1) * minibatch_size]\n",
        "        output = input_model(torch.tensor(batch_in))\n",
        "\n",
        "        test_acc += torch.mean(\n",
        "            torch.eq(torch.argmax(output, dim=1), torch.tensor(batch_label)).float()\n",
        "        )\n",
        "\n",
        "    test_acc /= i + 1\n",
        "    print(f\"Test accuracy: {test_acc.numpy()}\")\n"
      ]
    },
    {
      "cell_type": "code",
      "execution_count": 57,
      "metadata": {},
      "outputs": [
        {
          "name": "stdout",
          "output_type": "stream",
          "text": [
            "Test accuracy: 0.8347355723381042\n"
          ]
        }
      ],
      "source": [
        "test(model_spiking, train_sequences, test_sequences)\n"
      ]
    },
    {
      "cell_type": "code",
      "execution_count": 58,
      "metadata": {},
      "outputs": [
        {
          "name": "stdout",
          "output_type": "stream",
          "text": [
            "Test accuracy: 0.8500601053237915\n"
          ]
        }
      ],
      "source": [
        "test(model, train_images, test_images)"
      ]
    },
    {
      "cell_type": "code",
      "execution_count": null,
      "metadata": {},
      "outputs": [],
      "source": []
    }
  ],
  "metadata": {
    "accelerator": "GPU",
    "colab": {
      "gpuType": "T4",
      "provenance": []
    },
    "gpuClass": "standard",
    "kernelspec": {
      "display_name": "Python 3",
      "name": "python3"
    },
    "language_info": {
      "codemirror_mode": {
        "name": "ipython",
        "version": 3
      },
      "file_extension": ".py",
      "mimetype": "text/x-python",
      "name": "python",
      "nbconvert_exporter": "python",
      "pygments_lexer": "ipython3",
      "version": "3.11.0"
    }
  },
  "nbformat": 4,
  "nbformat_minor": 0
}
