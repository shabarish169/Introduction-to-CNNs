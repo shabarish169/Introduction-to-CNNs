{
 "cells": [
  {
   "cell_type": "code",
   "execution_count": 11,
   "metadata": {},
   "outputs": [],
   "source": [
    "import numpy as np\n",
    "import cv2  # Image reading library"
   ]
  },
  {
   "cell_type": "code",
   "execution_count": 12,
   "metadata": {},
   "outputs": [
    {
     "data": {
      "text/plain": [
       "1"
      ]
     },
     "execution_count": 12,
     "metadata": {},
     "output_type": "execute_result"
    }
   ],
   "source": [
    "def Convolution(image, kernel):\n",
    "    \"Image and kernel should be numpy matrices. Kernel should be 3 x 3\"\n",
    "\n",
    "    _image = np.copy(image)\n",
    "    ry, rx = tuple(image.shape)\n",
    "    new_image = np.empty_like(_image)\n",
    "    _image = np.vstack([np.zeros(rx), _image, np.zeros(rx)])\n",
    "    _image = np.concatenate([np.zeros(ry).reshape([-1,1]), _image, np.zeros(ry).reshape([-1,1])], axis=1)\n",
    "    for row in range(1,ry+1):\n",
    "        for col in range(1,rx+1):\n",
    "            section = _image[row-1:row+2, col-1:col+2]\n",
    "            print(section)\n",
    "            try: new_image[row-1][col-1] = np.sum(section*kernel)\n",
    "            except: print(row, col)\n",
    "    print(new_image.shape)\n",
    "    return (new_image)\n",
    "\n",
    "\n",
    "    \n",
    "def prod(sect, kernel):\n",
    "    new_element = 0\n",
    "    for row in range(sect.shape[1]):\n",
    "        for col in range(sect.shape[0]):\n",
    "            # print(sect)\n",
    "            new_element += sect[row][col]*kernel[row][col]\n",
    "    return new_element\n",
    "\n",
    "\n",
    "kernel = np.array([[1, 0, -1], [2, 0, -2], [1, 0, -1]])\n",
    "kernel[0][0]"
   ]
  },
  {
   "cell_type": "code",
   "execution_count": 13,
   "metadata": {},
   "outputs": [
    {
     "name": "stdout",
     "output_type": "stream",
     "text": [
      "12\n",
      "12\n",
      "12\n"
     ]
    }
   ],
   "source": [
    "prod = prod(kernel, kernel)\n",
    "print(prod)\n",
    "# OR\n",
    "prod = np.sum(kernel*kernel)\n",
    "print(prod)\n",
    "prod = kernel.flatten()@kernel.flatten().T\n",
    "print(prod)"
   ]
  },
  {
   "cell_type": "code",
   "execution_count": 14,
   "metadata": {},
   "outputs": [
    {
     "name": "stdout",
     "output_type": "stream",
     "text": [
      "(600, 600)\n"
     ]
    }
   ],
   "source": [
    "# kernel2 = initialize_kernel(size=(3,3) , sigma=1.5)\n",
    "# print((kernel2))\n",
    "img = cv2.imread('football.png', cv2.IMREAD_GRAYSCALE)\n",
    "print((img.shape))\n",
    "# img = Convolution(img, kernel)\n",
    "# cv2.imwrite(\"Edges.png\", img)\n",
    "# cv2.waitKey(0)"
   ]
  },
  {
   "cell_type": "code",
   "execution_count": 15,
   "metadata": {},
   "outputs": [
    {
     "name": "stdout",
     "output_type": "stream",
     "text": [
      "(4, 4)\n",
      "[[  0.   0.   0.]\n",
      " [  0.  50. 165.]\n",
      " [  0.  94.  23.]]\n",
      "[[  0.   0.   0.]\n",
      " [ 50. 165.  67.]\n",
      " [ 94.  23.  88.]]\n",
      "[[  0.   0.   0.]\n",
      " [165.  67.   0.]\n",
      " [ 23.  88.  12.]]\n",
      "[[ 0.  0.  0.]\n",
      " [67.  0.  0.]\n",
      " [88. 12.  0.]]\n",
      "[[  0.  50. 165.]\n",
      " [  0.  94.  23.]\n",
      " [  0. 178.  56.]]\n",
      "[[ 50. 165.  67.]\n",
      " [ 94.  23.  88.]\n",
      " [178.  56.  90.]]\n",
      "[[165.  67.   0.]\n",
      " [ 23.  88.  12.]\n",
      " [ 56.  90.  64.]]\n",
      "[[67.  0.  0.]\n",
      " [88. 12.  0.]\n",
      " [90. 64.  0.]]\n",
      "[[  0.  94.  23.]\n",
      " [  0. 178.  56.]\n",
      " [  0. 234. 208.]]\n",
      "[[ 94.  23.  88.]\n",
      " [178.  56.  90.]\n",
      " [234. 208.  78.]]\n",
      "[[ 23.  88.  12.]\n",
      " [ 56.  90.  64.]\n",
      " [208.  78. 123.]]\n",
      "[[ 88.  12.   0.]\n",
      " [ 90.  64.   0.]\n",
      " [ 78. 123.   0.]]\n",
      "[[  0. 178.  56.]\n",
      " [  0. 234. 208.]\n",
      " [  0.   0.   0.]]\n",
      "[[178.  56.  90.]\n",
      " [234. 208.  78.]\n",
      " [  0.   0.   0.]]\n",
      "[[ 56.  90.  64.]\n",
      " [208.  78. 123.]\n",
      " [  0.   0.   0.]]\n",
      "[[ 90.  64.   0.]\n",
      " [ 78. 123.   0.]\n",
      " [  0.   0.   0.]]\n",
      "(4, 4)\n",
      "[[-353  -28  341  222]\n",
      " [-267   83  179  333]\n",
      " [-343  338   80  346]\n",
      " [-472  400  162  246]]\n"
     ]
    }
   ],
   "source": [
    "ppt_conv = np.array(\n",
    "    [[50, 165, 67, 0],\n",
    "    [94, 23, 88, 12],\n",
    "    [178, 56, 90, 64],\n",
    "    [234, 208, 78, 123]]\n",
    ")\n",
    "print(ppt_conv.shape)\n",
    "print(Convolution(ppt_conv, kernel))"
   ]
  }
 ],
 "metadata": {
  "kernelspec": {
   "display_name": "Python 3",
   "language": "python",
   "name": "python3"
  },
  "language_info": {
   "codemirror_mode": {
    "name": "ipython",
    "version": 3
   },
   "file_extension": ".py",
   "mimetype": "text/x-python",
   "name": "python",
   "nbconvert_exporter": "python",
   "pygments_lexer": "ipython3",
   "version": "3.11.0"
  },
  "orig_nbformat": 4
 },
 "nbformat": 4,
 "nbformat_minor": 2
}
