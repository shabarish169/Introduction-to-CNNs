{
 "cells": [
  {
   "cell_type": "code",
   "execution_count": 71,
   "metadata": {},
   "outputs": [],
   "source": [
    "import numpy as np\n",
    "import cv2  # Image reading library"
   ]
  },
  {
   "cell_type": "code",
   "execution_count": 72,
   "metadata": {},
   "outputs": [
    {
     "data": {
      "text/plain": [
       "1"
      ]
     },
     "execution_count": 72,
     "metadata": {},
     "output_type": "execute_result"
    }
   ],
   "source": [
    "def Convolution(image, kernel):\n",
    "    \"Image and kernel should be numpy matrices. Kernel should be 3 x 3\"\n",
    "\n",
    "    _image = np.copy(image)/255\n",
    "    ry, rx = tuple(image.shape)\n",
    "    new_image = np.empty_like(_image)\n",
    "    _image = np.vstack([np.zeros(rx), _image, np.zeros(rx)])\n",
    "    _image = np.concatenate([np.zeros(ry+2).reshape([-1,1]), _image, np.zeros(ry+2).reshape([-1,1])], axis=1)\n",
    "    for row in range(1,ry+1):\n",
    "        for col in range(1,rx+1):\n",
    "            section = _image[row-1:row+2, col-1:col+2]\n",
    "            # print(section)\n",
    "            try: new_image[row-1][col-1] = np.sum(section*kernel)\n",
    "            except: print(row, col)\n",
    "    return (new_image)*255\n",
    "\n",
    "\n",
    "    \n",
    "def prod(sect, kernel):\n",
    "    new_element = 0\n",
    "    for row in range(sect.shape[1]):\n",
    "        for col in range(sect.shape[0]):\n",
    "            # print(sect)\n",
    "            new_element += sect[row][col]*kernel[row][col]\n",
    "    return new_element\n",
    "\n",
    "\n",
    "kernel = np.array([[1, 0, -1], [2, 0, -2], [1, 0, -1]])\n",
    "gaussian_blur = np.array([[0.075, 0.124, 0.075], [.124, .204, .124], [.075, .124, .075]])\n",
    "kernel[0][0]"
   ]
  },
  {
   "cell_type": "code",
   "execution_count": 73,
   "metadata": {},
   "outputs": [
    {
     "name": "stdout",
     "output_type": "stream",
     "text": [
      "12\n",
      "12\n",
      "12\n"
     ]
    }
   ],
   "source": [
    "prod = prod(kernel, kernel)\n",
    "print(prod)\n",
    "# OR\n",
    "prod = np.sum(kernel*kernel)\n",
    "print(prod)\n",
    "prod = kernel.flatten()@kernel.flatten().T\n",
    "print(prod)"
   ]
  },
  {
   "cell_type": "code",
   "execution_count": 69,
   "metadata": {},
   "outputs": [
    {
     "name": "stdout",
     "output_type": "stream",
     "text": [
      "(600, 600)\n"
     ]
    },
    {
     "data": {
      "text/plain": [
       "True"
      ]
     },
     "execution_count": 69,
     "metadata": {},
     "output_type": "execute_result"
    }
   ],
   "source": [
    "# kernel2 = initialize_kernel(size=(3,3) , sigma=1.5)\n",
    "# print((kernel2))\n",
    "img = cv2.imread('football.png', cv2.IMREAD_GRAYSCALE)\n",
    "print((img.shape))\n",
    "img_edges = Convolution(img, kernel)\n",
    "cv2.imwrite(\"Edges.png\", img_edges)\n",
    "img_blur = Convolution(img, gaussian_blur)\n",
    "cv2.imwrite('Gaussian Blur.png', img_blur)\n",
    "img_gauss_edges = Convolution(img_blur, kernel)\n",
    "cv2.imwrite('Gaussian Blur + Edges.png', img_gauss_edges)\n",
    "# cv2.waitKey(0)"
   ]
  },
  {
   "cell_type": "code",
   "execution_count": 70,
   "metadata": {},
   "outputs": [
    {
     "name": "stdout",
     "output_type": "stream",
     "text": [
      "[[-353  -28  341  222]\n",
      " [-267   83  179  333]\n",
      " [-343  338   80  346]\n",
      " [-472  400  162  246]]\n"
     ]
    }
   ],
   "source": [
    "ppt_conv = np.array(\n",
    "    [[50, 165, 67, 0],\n",
    "    [94, 23, 88, 12],\n",
    "    [178, 56, 90, 64],\n",
    "    [234, 208, 78, 123]]\n",
    ")\n",
    "# print(ppt_conv.shape)\n",
    "print(Convolution(ppt_conv, kernel))"
   ]
  }
 ],
 "metadata": {
  "kernelspec": {
   "display_name": "Python 3",
   "language": "python",
   "name": "python3"
  },
  "language_info": {
   "codemirror_mode": {
    "name": "ipython",
    "version": 3
   },
   "file_extension": ".py",
   "mimetype": "text/x-python",
   "name": "python",
   "nbconvert_exporter": "python",
   "pygments_lexer": "ipython3",
   "version": "3.11.0"
  },
  "orig_nbformat": 4
 },
 "nbformat": 4,
 "nbformat_minor": 2
}
